{
 "cells": [
  {
   "cell_type": "code",
   "execution_count": 1,
   "metadata": {},
   "outputs": [],
   "source": [
    "import numpy as np\n",
    "import pandas as pd\n",
    "import seaborn as sns\n",
    "import matplotlib.pyplot as plt\n",
    "import nltk\n",
    "from nltk.tokenize import word_tokenize\n",
    "import nltk.corpus\n",
    "import string\n",
    "import warnings\n",
    "warnings.filterwarnings('ignore')\n",
    "from sklearn.feature_extraction.text import CountVectorizer\n",
    "from sklearn.feature_extraction.text import TfidfTransformer\n",
    "from nltk.corpus import stopwords\n",
    "from sklearn.model_selection import train_test_split\n",
    "from sklearn.linear_model import LogisticRegression, PassiveAggressiveClassifier \n",
    "from sklearn.naive_bayes import MultinomialNB, GaussianNB\n",
    "from sklearn.ensemble import GradientBoostingClassifier\n",
    "import xgboost as xgb\n",
    "from sklearn.metrics import accuracy_score, precision_score, f1_score, recall_score, confusion_matrix, roc_curve\n",
    "import pickle\n",
    "\n",
    "%matplotlib inline"
   ]
  },
  {
   "cell_type": "code",
   "execution_count": 2,
   "metadata": {},
   "outputs": [
    {
     "data": {
      "text/html": [
       "<div>\n",
       "<style scoped>\n",
       "    .dataframe tbody tr th:only-of-type {\n",
       "        vertical-align: middle;\n",
       "    }\n",
       "\n",
       "    .dataframe tbody tr th {\n",
       "        vertical-align: top;\n",
       "    }\n",
       "\n",
       "    .dataframe thead th {\n",
       "        text-align: right;\n",
       "    }\n",
       "</style>\n",
       "<table border=\"1\" class=\"dataframe\">\n",
       "  <thead>\n",
       "    <tr style=\"text-align: right;\">\n",
       "      <th></th>\n",
       "      <th>title</th>\n",
       "      <th>text</th>\n",
       "      <th>subject</th>\n",
       "      <th>date</th>\n",
       "      <th>category</th>\n",
       "    </tr>\n",
       "  </thead>\n",
       "  <tbody>\n",
       "    <tr>\n",
       "      <th>0</th>\n",
       "      <td>Donald Trump Sends Out Embarrassing New Year’...</td>\n",
       "      <td>Donald Trump just couldn t wish all Americans ...</td>\n",
       "      <td>News</td>\n",
       "      <td>December 31, 2017</td>\n",
       "      <td>Fake</td>\n",
       "    </tr>\n",
       "    <tr>\n",
       "      <th>1</th>\n",
       "      <td>Drunk Bragging Trump Staffer Started Russian ...</td>\n",
       "      <td>House Intelligence Committee Chairman Devin Nu...</td>\n",
       "      <td>News</td>\n",
       "      <td>December 31, 2017</td>\n",
       "      <td>Fake</td>\n",
       "    </tr>\n",
       "    <tr>\n",
       "      <th>2</th>\n",
       "      <td>Sheriff David Clarke Becomes An Internet Joke...</td>\n",
       "      <td>On Friday, it was revealed that former Milwauk...</td>\n",
       "      <td>News</td>\n",
       "      <td>December 30, 2017</td>\n",
       "      <td>Fake</td>\n",
       "    </tr>\n",
       "    <tr>\n",
       "      <th>3</th>\n",
       "      <td>Trump Is So Obsessed He Even Has Obama’s Name...</td>\n",
       "      <td>On Christmas day, Donald Trump announced that ...</td>\n",
       "      <td>News</td>\n",
       "      <td>December 29, 2017</td>\n",
       "      <td>Fake</td>\n",
       "    </tr>\n",
       "    <tr>\n",
       "      <th>4</th>\n",
       "      <td>Pope Francis Just Called Out Donald Trump Dur...</td>\n",
       "      <td>Pope Francis used his annual Christmas Day mes...</td>\n",
       "      <td>News</td>\n",
       "      <td>December 25, 2017</td>\n",
       "      <td>Fake</td>\n",
       "    </tr>\n",
       "  </tbody>\n",
       "</table>\n",
       "</div>"
      ],
      "text/plain": [
       "                                               title  \\\n",
       "0   Donald Trump Sends Out Embarrassing New Year’...   \n",
       "1   Drunk Bragging Trump Staffer Started Russian ...   \n",
       "2   Sheriff David Clarke Becomes An Internet Joke...   \n",
       "3   Trump Is So Obsessed He Even Has Obama’s Name...   \n",
       "4   Pope Francis Just Called Out Donald Trump Dur...   \n",
       "\n",
       "                                                text subject  \\\n",
       "0  Donald Trump just couldn t wish all Americans ...    News   \n",
       "1  House Intelligence Committee Chairman Devin Nu...    News   \n",
       "2  On Friday, it was revealed that former Milwauk...    News   \n",
       "3  On Christmas day, Donald Trump announced that ...    News   \n",
       "4  Pope Francis used his annual Christmas Day mes...    News   \n",
       "\n",
       "                date category  \n",
       "0  December 31, 2017     Fake  \n",
       "1  December 31, 2017     Fake  \n",
       "2  December 30, 2017     Fake  \n",
       "3  December 29, 2017     Fake  \n",
       "4  December 25, 2017     Fake  "
      ]
     },
     "execution_count": 2,
     "metadata": {},
     "output_type": "execute_result"
    }
   ],
   "source": [
    "fake = pd.read_csv('Fake.csv')\n",
    "fake['category'] = 'Fake'\n",
    "fake.head()"
   ]
  },
  {
   "cell_type": "code",
   "execution_count": 3,
   "metadata": {},
   "outputs": [
    {
     "data": {
      "text/html": [
       "<div>\n",
       "<style scoped>\n",
       "    .dataframe tbody tr th:only-of-type {\n",
       "        vertical-align: middle;\n",
       "    }\n",
       "\n",
       "    .dataframe tbody tr th {\n",
       "        vertical-align: top;\n",
       "    }\n",
       "\n",
       "    .dataframe thead th {\n",
       "        text-align: right;\n",
       "    }\n",
       "</style>\n",
       "<table border=\"1\" class=\"dataframe\">\n",
       "  <thead>\n",
       "    <tr style=\"text-align: right;\">\n",
       "      <th></th>\n",
       "      <th>title</th>\n",
       "      <th>text</th>\n",
       "      <th>subject</th>\n",
       "      <th>date</th>\n",
       "      <th>category</th>\n",
       "    </tr>\n",
       "  </thead>\n",
       "  <tbody>\n",
       "    <tr>\n",
       "      <th>0</th>\n",
       "      <td>As U.S. budget fight looms, Republicans flip t...</td>\n",
       "      <td>WASHINGTON (Reuters) - The head of a conservat...</td>\n",
       "      <td>politicsNews</td>\n",
       "      <td>December 31, 2017</td>\n",
       "      <td>True</td>\n",
       "    </tr>\n",
       "    <tr>\n",
       "      <th>1</th>\n",
       "      <td>U.S. military to accept transgender recruits o...</td>\n",
       "      <td>WASHINGTON (Reuters) - Transgender people will...</td>\n",
       "      <td>politicsNews</td>\n",
       "      <td>December 29, 2017</td>\n",
       "      <td>True</td>\n",
       "    </tr>\n",
       "    <tr>\n",
       "      <th>2</th>\n",
       "      <td>Senior U.S. Republican senator: 'Let Mr. Muell...</td>\n",
       "      <td>WASHINGTON (Reuters) - The special counsel inv...</td>\n",
       "      <td>politicsNews</td>\n",
       "      <td>December 31, 2017</td>\n",
       "      <td>True</td>\n",
       "    </tr>\n",
       "    <tr>\n",
       "      <th>3</th>\n",
       "      <td>FBI Russia probe helped by Australian diplomat...</td>\n",
       "      <td>WASHINGTON (Reuters) - Trump campaign adviser ...</td>\n",
       "      <td>politicsNews</td>\n",
       "      <td>December 30, 2017</td>\n",
       "      <td>True</td>\n",
       "    </tr>\n",
       "    <tr>\n",
       "      <th>4</th>\n",
       "      <td>Trump wants Postal Service to charge 'much mor...</td>\n",
       "      <td>SEATTLE/WASHINGTON (Reuters) - President Donal...</td>\n",
       "      <td>politicsNews</td>\n",
       "      <td>December 29, 2017</td>\n",
       "      <td>True</td>\n",
       "    </tr>\n",
       "  </tbody>\n",
       "</table>\n",
       "</div>"
      ],
      "text/plain": [
       "                                               title  \\\n",
       "0  As U.S. budget fight looms, Republicans flip t...   \n",
       "1  U.S. military to accept transgender recruits o...   \n",
       "2  Senior U.S. Republican senator: 'Let Mr. Muell...   \n",
       "3  FBI Russia probe helped by Australian diplomat...   \n",
       "4  Trump wants Postal Service to charge 'much mor...   \n",
       "\n",
       "                                                text       subject  \\\n",
       "0  WASHINGTON (Reuters) - The head of a conservat...  politicsNews   \n",
       "1  WASHINGTON (Reuters) - Transgender people will...  politicsNews   \n",
       "2  WASHINGTON (Reuters) - The special counsel inv...  politicsNews   \n",
       "3  WASHINGTON (Reuters) - Trump campaign adviser ...  politicsNews   \n",
       "4  SEATTLE/WASHINGTON (Reuters) - President Donal...  politicsNews   \n",
       "\n",
       "                 date category  \n",
       "0  December 31, 2017      True  \n",
       "1  December 29, 2017      True  \n",
       "2  December 31, 2017      True  \n",
       "3  December 30, 2017      True  \n",
       "4  December 29, 2017      True  "
      ]
     },
     "execution_count": 3,
     "metadata": {},
     "output_type": "execute_result"
    }
   ],
   "source": [
    "true = pd.read_csv('True.csv')\n",
    "true['category'] = 'True'\n",
    "true.head()"
   ]
  },
  {
   "cell_type": "code",
   "execution_count": 4,
   "metadata": {},
   "outputs": [
    {
     "name": "stdout",
     "output_type": "stream",
     "text": [
      "['politicsNews' 'worldnews']\n",
      "['News' 'politics' 'Government News' 'left-news' 'US_News' 'Middle-east']\n",
      "(23481, 5) (21417, 5)\n"
     ]
    }
   ],
   "source": [
    "print(true['subject'].unique())\n",
    "print(fake['subject'].unique())\n",
    "print(fake.shape, true.shape)"
   ]
  },
  {
   "cell_type": "code",
   "execution_count": 5,
   "metadata": {
    "scrolled": true
   },
   "outputs": [
    {
     "name": "stdout",
     "output_type": "stream",
     "text": [
      "(44898, 5)\n"
     ]
    },
    {
     "data": {
      "text/html": [
       "<div>\n",
       "<style scoped>\n",
       "    .dataframe tbody tr th:only-of-type {\n",
       "        vertical-align: middle;\n",
       "    }\n",
       "\n",
       "    .dataframe tbody tr th {\n",
       "        vertical-align: top;\n",
       "    }\n",
       "\n",
       "    .dataframe thead th {\n",
       "        text-align: right;\n",
       "    }\n",
       "</style>\n",
       "<table border=\"1\" class=\"dataframe\">\n",
       "  <thead>\n",
       "    <tr style=\"text-align: right;\">\n",
       "      <th></th>\n",
       "      <th>title</th>\n",
       "      <th>text</th>\n",
       "      <th>subject</th>\n",
       "      <th>date</th>\n",
       "      <th>category</th>\n",
       "    </tr>\n",
       "  </thead>\n",
       "  <tbody>\n",
       "    <tr>\n",
       "      <th>0</th>\n",
       "      <td>Donald Trump Sends Out Embarrassing New Year’...</td>\n",
       "      <td>Donald Trump just couldn t wish all Americans ...</td>\n",
       "      <td>News</td>\n",
       "      <td>December 31, 2017</td>\n",
       "      <td>Fake</td>\n",
       "    </tr>\n",
       "    <tr>\n",
       "      <th>1</th>\n",
       "      <td>Drunk Bragging Trump Staffer Started Russian ...</td>\n",
       "      <td>House Intelligence Committee Chairman Devin Nu...</td>\n",
       "      <td>News</td>\n",
       "      <td>December 31, 2017</td>\n",
       "      <td>Fake</td>\n",
       "    </tr>\n",
       "    <tr>\n",
       "      <th>2</th>\n",
       "      <td>Sheriff David Clarke Becomes An Internet Joke...</td>\n",
       "      <td>On Friday, it was revealed that former Milwauk...</td>\n",
       "      <td>News</td>\n",
       "      <td>December 30, 2017</td>\n",
       "      <td>Fake</td>\n",
       "    </tr>\n",
       "    <tr>\n",
       "      <th>3</th>\n",
       "      <td>Trump Is So Obsessed He Even Has Obama’s Name...</td>\n",
       "      <td>On Christmas day, Donald Trump announced that ...</td>\n",
       "      <td>News</td>\n",
       "      <td>December 29, 2017</td>\n",
       "      <td>Fake</td>\n",
       "    </tr>\n",
       "    <tr>\n",
       "      <th>4</th>\n",
       "      <td>Pope Francis Just Called Out Donald Trump Dur...</td>\n",
       "      <td>Pope Francis used his annual Christmas Day mes...</td>\n",
       "      <td>News</td>\n",
       "      <td>December 25, 2017</td>\n",
       "      <td>Fake</td>\n",
       "    </tr>\n",
       "  </tbody>\n",
       "</table>\n",
       "</div>"
      ],
      "text/plain": [
       "                                               title  \\\n",
       "0   Donald Trump Sends Out Embarrassing New Year’...   \n",
       "1   Drunk Bragging Trump Staffer Started Russian ...   \n",
       "2   Sheriff David Clarke Becomes An Internet Joke...   \n",
       "3   Trump Is So Obsessed He Even Has Obama’s Name...   \n",
       "4   Pope Francis Just Called Out Donald Trump Dur...   \n",
       "\n",
       "                                                text subject  \\\n",
       "0  Donald Trump just couldn t wish all Americans ...    News   \n",
       "1  House Intelligence Committee Chairman Devin Nu...    News   \n",
       "2  On Friday, it was revealed that former Milwauk...    News   \n",
       "3  On Christmas day, Donald Trump announced that ...    News   \n",
       "4  Pope Francis used his annual Christmas Day mes...    News   \n",
       "\n",
       "                date category  \n",
       "0  December 31, 2017     Fake  \n",
       "1  December 31, 2017     Fake  \n",
       "2  December 30, 2017     Fake  \n",
       "3  December 29, 2017     Fake  \n",
       "4  December 25, 2017     Fake  "
      ]
     },
     "execution_count": 5,
     "metadata": {},
     "output_type": "execute_result"
    }
   ],
   "source": [
    "tf = fake.append(true, ignore_index=True)\n",
    "print(tf.shape)\n",
    "tf.head()"
   ]
  },
  {
   "cell_type": "code",
   "execution_count": 6,
   "metadata": {},
   "outputs": [],
   "source": [
    "df = tf.sample(frac=1).reset_index(drop=True)\n",
    "df.to_csv(\"News_data.csv\")"
   ]
  },
  {
   "cell_type": "code",
   "execution_count": 7,
   "metadata": {},
   "outputs": [
    {
     "data": {
      "text/html": [
       "<div>\n",
       "<style scoped>\n",
       "    .dataframe tbody tr th:only-of-type {\n",
       "        vertical-align: middle;\n",
       "    }\n",
       "\n",
       "    .dataframe tbody tr th {\n",
       "        vertical-align: top;\n",
       "    }\n",
       "\n",
       "    .dataframe thead th {\n",
       "        text-align: right;\n",
       "    }\n",
       "</style>\n",
       "<table border=\"1\" class=\"dataframe\">\n",
       "  <thead>\n",
       "    <tr style=\"text-align: right;\">\n",
       "      <th></th>\n",
       "      <th>title</th>\n",
       "      <th>text</th>\n",
       "      <th>subject</th>\n",
       "      <th>category</th>\n",
       "    </tr>\n",
       "  </thead>\n",
       "  <tbody>\n",
       "    <tr>\n",
       "      <th>0</th>\n",
       "      <td>AWESOME! ATTORNEY GENERAL JEFF SESSIONS Just D...</td>\n",
       "      <td>#FlashbackFriday 1993 #AttorneyGate Clinton AG...</td>\n",
       "      <td>politics</td>\n",
       "      <td>Fake</td>\n",
       "    </tr>\n",
       "    <tr>\n",
       "      <th>1</th>\n",
       "      <td>Racists Call For Deaths Of Black People After...</td>\n",
       "      <td>Emotions around the nation are raw due to the ...</td>\n",
       "      <td>News</td>\n",
       "      <td>Fake</td>\n",
       "    </tr>\n",
       "    <tr>\n",
       "      <th>2</th>\n",
       "      <td>Exclusive: Trump could seek new law to purge g...</td>\n",
       "      <td>CLEVELAND (Reuters) - If he wins the presidenc...</td>\n",
       "      <td>politicsNews</td>\n",
       "      <td>True</td>\n",
       "    </tr>\n",
       "    <tr>\n",
       "      <th>3</th>\n",
       "      <td>[VIDEO] DINESH D’SOUZA Warned Us About What Th...</td>\n",
       "      <td>Dinesh made some frightening predictions in hi...</td>\n",
       "      <td>left-news</td>\n",
       "      <td>Fake</td>\n",
       "    </tr>\n",
       "    <tr>\n",
       "      <th>4</th>\n",
       "      <td>BLACK WOMAN IN CHARLESTON WARNS “There’s gonna...</td>\n",
       "      <td>All the progress that s been made with race re...</td>\n",
       "      <td>politics</td>\n",
       "      <td>Fake</td>\n",
       "    </tr>\n",
       "  </tbody>\n",
       "</table>\n",
       "</div>"
      ],
      "text/plain": [
       "                                               title  \\\n",
       "0  AWESOME! ATTORNEY GENERAL JEFF SESSIONS Just D...   \n",
       "1   Racists Call For Deaths Of Black People After...   \n",
       "2  Exclusive: Trump could seek new law to purge g...   \n",
       "3  [VIDEO] DINESH D’SOUZA Warned Us About What Th...   \n",
       "4  BLACK WOMAN IN CHARLESTON WARNS “There’s gonna...   \n",
       "\n",
       "                                                text       subject category  \n",
       "0  #FlashbackFriday 1993 #AttorneyGate Clinton AG...      politics     Fake  \n",
       "1  Emotions around the nation are raw due to the ...          News     Fake  \n",
       "2  CLEVELAND (Reuters) - If he wins the presidenc...  politicsNews     True  \n",
       "3  Dinesh made some frightening predictions in hi...     left-news     Fake  \n",
       "4  All the progress that s been made with race re...      politics     Fake  "
      ]
     },
     "execution_count": 7,
     "metadata": {},
     "output_type": "execute_result"
    }
   ],
   "source": [
    "df.drop('date',axis=1, inplace=True)\n",
    "df.head()"
   ]
  },
  {
   "cell_type": "code",
   "execution_count": 8,
   "metadata": {},
   "outputs": [
    {
     "name": "stdout",
     "output_type": "stream",
     "text": [
      "Null values for each column\n",
      "title       0\n",
      "text        0\n",
      "subject     0\n",
      "category    0\n",
      "dtype: int64\n"
     ]
    },
    {
     "data": {
      "text/plain": [
       "politicsNews       11272\n",
       "worldnews          10145\n",
       "News                9050\n",
       "politics            6841\n",
       "left-news           4459\n",
       "Government News     1570\n",
       "US_News              783\n",
       "Middle-east          778\n",
       "Name: subject, dtype: int64"
      ]
     },
     "execution_count": 8,
     "metadata": {},
     "output_type": "execute_result"
    }
   ],
   "source": [
    "print('Null values for each column')\n",
    "print(df.isnull().sum())\n",
    "print\n",
    "df['subject'].value_counts()"
   ]
  },
  {
   "cell_type": "code",
   "execution_count": 9,
   "metadata": {},
   "outputs": [
    {
     "data": {
      "text/plain": [
       "(array([0, 1, 2, 3, 4, 5, 6, 7]), <a list of 8 Text xticklabel objects>)"
      ]
     },
     "execution_count": 9,
     "metadata": {},
     "output_type": "execute_result"
    },
    {
     "data": {
      "image/png": "[encoded data removed]",
      "text/plain": [
       "<Figure size 432x288 with 1 Axes>"
      ]
     },
     "metadata": {
      "needs_background": "light"
     },
     "output_type": "display_data"
    }
   ],
   "source": [
    "sns.countplot(df.subject, data=df, hue=df.category)\n",
    "plt.xticks(rotation=\"vertical\")"
   ]
  },
  {
   "cell_type": "code",
   "execution_count": 10,
   "metadata": {},
   "outputs": [
    {
     "data": {
      "text/html": [
       "<div>\n",
       "<style scoped>\n",
       "    .dataframe tbody tr th:only-of-type {\n",
       "        vertical-align: middle;\n",
       "    }\n",
       "\n",
       "    .dataframe tbody tr th {\n",
       "        vertical-align: top;\n",
       "    }\n",
       "\n",
       "    .dataframe thead th {\n",
       "        text-align: right;\n",
       "    }\n",
       "</style>\n",
       "<table border=\"1\" class=\"dataframe\">\n",
       "  <thead>\n",
       "    <tr style=\"text-align: right;\">\n",
       "      <th></th>\n",
       "      <th>title</th>\n",
       "      <th>text</th>\n",
       "      <th>category</th>\n",
       "    </tr>\n",
       "  </thead>\n",
       "  <tbody>\n",
       "    <tr>\n",
       "      <th>0</th>\n",
       "      <td>AWESOME! ATTORNEY GENERAL JEFF SESSIONS Just D...</td>\n",
       "      <td>#FlashbackFriday 1993 #AttorneyGate Clinton AG...</td>\n",
       "      <td>Fake</td>\n",
       "    </tr>\n",
       "    <tr>\n",
       "      <th>1</th>\n",
       "      <td>Racists Call For Deaths Of Black People After...</td>\n",
       "      <td>Emotions around the nation are raw due to the ...</td>\n",
       "      <td>Fake</td>\n",
       "    </tr>\n",
       "    <tr>\n",
       "      <th>2</th>\n",
       "      <td>Exclusive: Trump could seek new law to purge g...</td>\n",
       "      <td>CLEVELAND (Reuters) - If he wins the presidenc...</td>\n",
       "      <td>True</td>\n",
       "    </tr>\n",
       "    <tr>\n",
       "      <th>3</th>\n",
       "      <td>[VIDEO] DINESH D’SOUZA Warned Us About What Th...</td>\n",
       "      <td>Dinesh made some frightening predictions in hi...</td>\n",
       "      <td>Fake</td>\n",
       "    </tr>\n",
       "    <tr>\n",
       "      <th>4</th>\n",
       "      <td>BLACK WOMAN IN CHARLESTON WARNS “There’s gonna...</td>\n",
       "      <td>All the progress that s been made with race re...</td>\n",
       "      <td>Fake</td>\n",
       "    </tr>\n",
       "  </tbody>\n",
       "</table>\n",
       "</div>"
      ],
      "text/plain": [
       "                                               title  \\\n",
       "0  AWESOME! ATTORNEY GENERAL JEFF SESSIONS Just D...   \n",
       "1   Racists Call For Deaths Of Black People After...   \n",
       "2  Exclusive: Trump could seek new law to purge g...   \n",
       "3  [VIDEO] DINESH D’SOUZA Warned Us About What Th...   \n",
       "4  BLACK WOMAN IN CHARLESTON WARNS “There’s gonna...   \n",
       "\n",
       "                                                text category  \n",
       "0  #FlashbackFriday 1993 #AttorneyGate Clinton AG...     Fake  \n",
       "1  Emotions around the nation are raw due to the ...     Fake  \n",
       "2  CLEVELAND (Reuters) - If he wins the presidenc...     True  \n",
       "3  Dinesh made some frightening predictions in hi...     Fake  \n",
       "4  All the progress that s been made with race re...     Fake  "
      ]
     },
     "execution_count": 10,
     "metadata": {},
     "output_type": "execute_result"
    }
   ],
   "source": [
    "df.drop('subject', axis=1, inplace=True)\n",
    "df.head()"
   ]
  },
  {
   "cell_type": "code",
   "execution_count": 11,
   "metadata": {},
   "outputs": [
    {
     "data": {
      "text/plain": [
       "Fake    23481\n",
       "True    21417\n",
       "Name: category, dtype: int64"
      ]
     },
     "execution_count": 11,
     "metadata": {},
     "output_type": "execute_result"
    }
   ],
   "source": [
    "df['category'].value_counts() #checking if the dataset is an imbalanced one"
   ]
  },
  {
   "cell_type": "code",
   "execution_count": 12,
   "metadata": {},
   "outputs": [],
   "source": [
    "#prepping the data for machine learning, removing punctuation and stop words\n",
    "def text_cleaning(text):\n",
    "    remove_punctuation = [char for char in text if char not in string.punctuation] #removing punctuation from each message\n",
    "    remove_punctuation = ''.join(remove_punctuation) #joins each word back to make a sentence\n",
    "    return [word for word in remove_punctuation.split() if word.lower() not in stopwords.words('english')] #eliminate english stop words"
   ]
  },
  {
   "cell_type": "code",
   "execution_count": 13,
   "metadata": {},
   "outputs": [
    {
     "name": "stdout",
     "output_type": "stream",
     "text": [
      "(31428, 3) (13470, 3)\n"
     ]
    }
   ],
   "source": [
    "train, test = np.split(df.sample(frac=1, random_state=1), [int(0.70*len(df))])\n",
    "# train_data.to_csv('train_data.csv')\n",
    "# test_data.to_csv('test_data.csv')\n",
    "print(train.shape, test.shape)"
   ]
  },
  {
   "cell_type": "code",
   "execution_count": 14,
   "metadata": {},
   "outputs": [
    {
     "data": {
      "text/html": [
       "<div>\n",
       "<style scoped>\n",
       "    .dataframe tbody tr th:only-of-type {\n",
       "        vertical-align: middle;\n",
       "    }\n",
       "\n",
       "    .dataframe tbody tr th {\n",
       "        vertical-align: top;\n",
       "    }\n",
       "\n",
       "    .dataframe thead th {\n",
       "        text-align: right;\n",
       "    }\n",
       "</style>\n",
       "<table border=\"1\" class=\"dataframe\">\n",
       "  <thead>\n",
       "    <tr style=\"text-align: right;\">\n",
       "      <th></th>\n",
       "      <th>title</th>\n",
       "      <th>text</th>\n",
       "      <th>category</th>\n",
       "    </tr>\n",
       "  </thead>\n",
       "  <tbody>\n",
       "    <tr>\n",
       "      <th>4528</th>\n",
       "      <td>Trump has 'friendly' call with Mexican leader ...</td>\n",
       "      <td>WASHINGTON (Reuters) - The presidents of the U...</td>\n",
       "      <td>Real</td>\n",
       "    </tr>\n",
       "    <tr>\n",
       "      <th>31727</th>\n",
       "      <td>WHICH ONE OF THESE PEOPLE Tried to Lecture the...</td>\n",
       "      <td></td>\n",
       "      <td>Fake</td>\n",
       "    </tr>\n",
       "    <tr>\n",
       "      <th>10937</th>\n",
       "      <td>House Republicans Give Themselves The Power T...</td>\n",
       "      <td>It s only been a couple days since Republicans...</td>\n",
       "      <td>Fake</td>\n",
       "    </tr>\n",
       "    <tr>\n",
       "      <th>13470</th>\n",
       "      <td>Trump, Republicans to showcase tax cut for bus...</td>\n",
       "      <td>WASHINGTON (Reuters) - U.S. President Donald T...</td>\n",
       "      <td>Real</td>\n",
       "    </tr>\n",
       "    <tr>\n",
       "      <th>40814</th>\n",
       "      <td>WATCH: Democratic Rep SHREDS Republicans For ...</td>\n",
       "      <td>Republicans are poised to take healthcare away...</td>\n",
       "      <td>Fake</td>\n",
       "    </tr>\n",
       "  </tbody>\n",
       "</table>\n",
       "</div>"
      ],
      "text/plain": [
       "                                                   title  \\\n",
       "4528   Trump has 'friendly' call with Mexican leader ...   \n",
       "31727  WHICH ONE OF THESE PEOPLE Tried to Lecture the...   \n",
       "10937   House Republicans Give Themselves The Power T...   \n",
       "13470  Trump, Republicans to showcase tax cut for bus...   \n",
       "40814   WATCH: Democratic Rep SHREDS Republicans For ...   \n",
       "\n",
       "                                                    text category  \n",
       "4528   WASHINGTON (Reuters) - The presidents of the U...     Real  \n",
       "31727                                                        Fake  \n",
       "10937  It s only been a couple days since Republicans...     Fake  \n",
       "13470  WASHINGTON (Reuters) - U.S. President Donald T...     Real  \n",
       "40814  Republicans are poised to take healthcare away...     Fake  "
      ]
     },
     "execution_count": 14,
     "metadata": {},
     "output_type": "execute_result"
    }
   ],
   "source": [
    "train['category'].replace('True', 'Real', inplace=True)\n",
    "train.head()"
   ]
  },
  {
   "cell_type": "code",
   "execution_count": 15,
   "metadata": {},
   "outputs": [],
   "source": [
    "train = train.reset_index(drop=True)"
   ]
  },
  {
   "cell_type": "code",
   "execution_count": 16,
   "metadata": {},
   "outputs": [
    {
     "data": {
      "text/plain": [
       "(3000, 58342)"
      ]
     },
     "execution_count": 16,
     "metadata": {},
     "output_type": "execute_result"
    }
   ],
   "source": [
    "x = train['text'].iloc[0:3000]\n",
    "y = train['category'].iloc[0:3000]\n",
    "\n",
    "vectorizer = CountVectorizer(analyzer=text_cleaning).fit(x) #Vectorizing and counting words for each sample\n",
    "vector = vectorizer.transform(x)\n",
    "\n",
    "tfidf = TfidfTransformer().fit(vector) #TF-IDF Term Frequency Inverse Document Frequency, to find out the most important words in a sample\n",
    "X = tfidf.transform(vector)\n",
    "X.shape"
   ]
  },
  {
   "cell_type": "markdown",
   "metadata": {},
   "source": [
    "Building the model "
   ]
  },
  {
   "cell_type": "code",
   "execution_count": 17,
   "metadata": {},
   "outputs": [],
   "source": [
    "y = y.map({'Real':1, 'Fake':0}) #label encoding with the map function"
   ]
  },
  {
   "cell_type": "code",
   "execution_count": 18,
   "metadata": {},
   "outputs": [
    {
     "name": "stdout",
     "output_type": "stream",
     "text": [
      "0    1579\n",
      "1    1421\n",
      "Name: category, dtype: int64\n"
     ]
    }
   ],
   "source": [
    "print(y.value_counts())"
   ]
  },
  {
   "cell_type": "code",
   "execution_count": 19,
   "metadata": {},
   "outputs": [],
   "source": [
    "x_train, x_test, y_train, y_test = train_test_split(X, y, test_size=0.2, random_state=1) #split the train data into train and test"
   ]
  },
  {
   "cell_type": "code",
   "execution_count": 20,
   "metadata": {},
   "outputs": [],
   "source": [
    "lg = LogisticRegression(random_state=0)\n",
    "mn = MultinomialNB()\n",
    "gn = GaussianNB()\n",
    "gb = PassiveAggressiveClassifier()\n",
    "xg = xgb.XGBClassifier(max_depth=4, eta=0.3, objective='multi:softmax', num_class=2)"
   ]
  },
  {
   "cell_type": "code",
   "execution_count": 21,
   "metadata": {},
   "outputs": [
    {
     "name": "stdout",
     "output_type": "stream",
     "text": [
      "Accuracy score 0.9716666666666667\n",
      "Precision score 0.9719298245614035\n",
      "Recall score 0.9685314685314685\n",
      "F1 score 0.9702276707530647\n",
      "Confusion Matrix: \n",
      " [[306   8]\n",
      " [  9 277]]\n"
     ]
    }
   ],
   "source": [
    "lg.fit(x_train,y_train)\n",
    "lg_pred = lg.predict(x_test)\n",
    "print('Accuracy score', accuracy_score(list(y_test.values), lg_pred))\n",
    "print('Precision score', precision_score(list(y_test.values), lg_pred))\n",
    "print('Recall score', recall_score(list(y_test.values), lg_pred))\n",
    "print('F1 score', f1_score(list(y_test.values), lg_pred))\n",
    "print('Confusion Matrix: \\n', confusion_matrix(list(y_test.values), lg_pred))"
   ]
  },
  {
   "cell_type": "code",
   "execution_count": 22,
   "metadata": {},
   "outputs": [
    {
     "name": "stdout",
     "output_type": "stream",
     "text": [
      "[11:19:57] WARNING: ../src/learner.cc:1061: Starting in XGBoost 1.3.0, the default evaluation metric used with the objective 'multi:softmax' was changed from 'merror' to 'mlogloss'. Explicitly set eval_metric if you'd like to restore the old behavior.\n",
      "Accuracy score 0.9933333333333333\n",
      "Precision score 0.9862068965517241\n",
      "Recall score 1.0\n",
      "F1 score 0.9930555555555556\n",
      "Confusion Matrix: \n",
      " [[310   4]\n",
      " [  0 286]]\n"
     ]
    }
   ],
   "source": [
    "xg.fit(x_train,y_train)\n",
    "xg_pred = xg.predict(x_test)\n",
    "print('Accuracy score', accuracy_score(list(y_test.values), xg_pred))\n",
    "print('Precision score', precision_score(list(y_test.values), xg_pred))\n",
    "print('Recall score', recall_score(list(y_test.values), xg_pred))\n",
    "print('F1 score', f1_score(list(y_test.values), xg_pred))\n",
    "print('Confusion Matrix: \\n', confusion_matrix(list(y_test.values), xg_pred))"
   ]
  },
  {
   "cell_type": "code",
   "execution_count": 23,
   "metadata": {},
   "outputs": [
    {
     "name": "stdout",
     "output_type": "stream",
     "text": [
      "Accuracy score 0.985\n",
      "Precision score 0.9792387543252595\n",
      "Recall score 0.9895104895104895\n",
      "F1 score 0.9843478260869565\n",
      "Confusion Matrix: \n",
      " [[308   6]\n",
      " [  3 283]]\n"
     ]
    }
   ],
   "source": [
    "gb.fit(x_train,y_train)\n",
    "gb_pred = gb.predict(x_test)\n",
    "print('Accuracy score', accuracy_score(list(y_test.values), gb_pred))\n",
    "print('Precision score', precision_score(list(y_test.values), gb_pred))\n",
    "print('Recall score', recall_score(list(y_test.values), gb_pred))\n",
    "print('F1 score', f1_score(list(y_test.values), gb_pred))\n",
    "print('Confusion Matrix: \\n', confusion_matrix(list(y_test.values), gb_pred))"
   ]
  },
  {
   "cell_type": "code",
   "execution_count": 24,
   "metadata": {},
   "outputs": [
    {
     "name": "stdout",
     "output_type": "stream",
     "text": [
      "Accuracy score 0.9566666666666667\n",
      "Precision score 0.9362416107382551\n",
      "Recall score 0.9755244755244755\n",
      "F1 score 0.9554794520547946\n",
      "Confusion Matrix: \n",
      " [[295  19]\n",
      " [  7 279]]\n"
     ]
    }
   ],
   "source": [
    "mn.fit(x_train,y_train)\n",
    "mn_pred = mn.predict(x_test)\n",
    "print('Accuracy score', accuracy_score(list(y_test.values), mn_pred))\n",
    "print('Precision score', precision_score(list(y_test.values), mn_pred))\n",
    "print('Recall score', recall_score(list(y_test.values), mn_pred))\n",
    "print('F1 score', f1_score(list(y_test.values), mn_pred))\n",
    "print('Confusion Matrix: \\n', confusion_matrix(list(y_test.values), mn_pred))"
   ]
  },
  {
   "cell_type": "markdown",
   "metadata": {},
   "source": [
    "### Plotting ROC curve to visualize metrics"
   ]
  },
  {
   "cell_type": "code",
   "execution_count": 25,
   "metadata": {},
   "outputs": [
    {
     "data": {
      "text/plain": [
       "<matplotlib.legend.Legend at 0x7f2858e91a50>"
      ]
     },
     "execution_count": 25,
     "metadata": {},
     "output_type": "execute_result"
    },
    {
     "data": {
      "image/png": "[encoded data removed]",
      "text/plain": [
       "<Figure size 720x576 with 1 Axes>"
      ]
     },
     "metadata": {
      "needs_background": "light"
     },
     "output_type": "display_data"
    }
   ],
   "source": [
    "lg_score = lg.decision_function(x_test)\n",
    "xg_score = xg.predict_proba(x_test)[:,1]\n",
    "mn_score = mn.predict_proba(x_test)[:,1]\n",
    "gb_score = gb.decision_function(x_test)\n",
    "\n",
    "# Getting the ROC curve for each classifier used\n",
    "fpr_lg, tpr_lg, threshold_lg = roc_curve(y_test.values, lg_score)\n",
    "fpr_xg, tpr_xg, threshold_xg = roc_curve(y_test.values, xg_score)\n",
    "fpr_mn, tpr_mn, threshold_mn = roc_curve(y_test.values, mn_score)\n",
    "fpr_gb, tpr_gb, threshold_gb = roc_curve(y_test.values, gb_score)\n",
    "\n",
    "#plotting each in curve in a single plot for better understanding\n",
    "plt.figure(figsize=(10,8))\n",
    "plt.plot([0,1], [0,1], color='k', linestyle='--')\n",
    "plt.plot(fpr_lg, tpr_lg, label='Logistic Regression')\n",
    "plt.plot(fpr_xg, tpr_xg, label='XGBoost Classifier')\n",
    "plt.plot(fpr_mn, tpr_mn, label='Multinomial NB')\n",
    "plt.plot(fpr_gb, tpr_gb, label='Passive Aggressive Classifier')\n",
    "\n",
    "plt.xlim([0.0, 1.0])\n",
    "plt.ylim([0.0, 1.0])\n",
    "plt.title('Models ROC curves', fontsize=20)\n",
    "plt.xlabel(\"False Positive Rate\")\n",
    "plt.ylabel('True Positive Rate')\n",
    "\n",
    "plt.legend()"
   ]
  },
  {
   "cell_type": "code",
   "execution_count": 26,
   "metadata": {},
   "outputs": [
    {
     "name": "stdout",
     "output_type": "stream",
     "text": [
      "Confusion Matrix:\n",
      " [[310   4]\n",
      " [  0 286]]\n"
     ]
    },
    {
     "data": {
      "image/png": "[encoded data removed]",
      "text/plain": [
       "<Figure size 432x288 with 2 Axes>"
      ]
     },
     "metadata": {
      "needs_background": "light"
     },
     "output_type": "display_data"
    }
   ],
   "source": [
    "#Visualizing confusion matrix for xgboost Classifier\n",
    "xticks=['Real', 'Fake']\n",
    "yticks=['Real', 'Fake']\n",
    "conf_m = confusion_matrix(list(y_test.values), xg_pred)\n",
    "print('Confusion Matrix:\\n',conf_m)\n",
    "plt.figure()\n",
    "plt.title('Confusion Matrix for Random Forest', fontsize=15)\n",
    "sns.set(font_scale=1.2)\n",
    "ax=sns.heatmap(conf_m, fmt='d', xticklabels=xticks, yticklabels=yticks, annot=True, cmap='Blues')\n",
    "ax.set_ylim([0,2])\n",
    "plt.ylabel('Actual Class')\n",
    "plt.xlabel('Predicted Class')\n",
    "plt.show()"
   ]
  },
  {
   "cell_type": "markdown",
   "metadata": {},
   "source": [
    "It was already obvious that xgboost provides the best accuracy of a 100%, the roc plotting above is just to visualize this, in essence, there wont be any need for scalling the data and training again or any hyperparameter optimization of xgboost, since its our preferred model, we'll just move straight to pickling and deploying"
   ]
  },
  {
   "cell_type": "code",
   "execution_count": 27,
   "metadata": {},
   "outputs": [],
   "source": [
    "#Saving the prefered classifier\n",
    "with open('xgb.pk1', 'wb') as model:\n",
    "    pickle.dump(xg, model)"
   ]
  },
  {
   "cell_type": "code",
   "execution_count": 28,
   "metadata": {},
   "outputs": [],
   "source": [
    "with open('pac.pk1', 'wb') as model_2:\n",
    "    pickle.dump(gb, model_2)"
   ]
  },
  {
   "cell_type": "code",
   "execution_count": null,
   "metadata": {},
   "outputs": [],
   "source": []
  }
 ],
 "metadata": {
  "kernelspec": {
   "display_name": "Python 3",
   "language": "python",
   "name": "python3"
  },
  "language_info": {
   "codemirror_mode": {
    "name": "ipython",
    "version": 3
   },
   "file_extension": ".py",
   "mimetype": "text/x-python",
   "name": "python",
   "nbconvert_exporter": "python",
   "pygments_lexer": "ipython3",
   "version": "3.7.4"
  }
 },
 "nbformat": 4,
 "nbformat_minor": 2
}
